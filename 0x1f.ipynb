{
  "nbformat": 4,
  "nbformat_minor": 0,
  "metadata": {
    "colab": {
      "name": "Untitled0.ipynb",
      "provenance": [],
      "collapsed_sections": [],
      "authorship_tag": "ABX9TyN82LW/1ctZwbnHBSyBqS8C"
    },
    "kernelspec": {
      "name": "python3",
      "display_name": "Python 3"
    },
    "language_info": {
      "name": "python"
    }
  },
  "cells": [
    {
      "cell_type": "code",
      "execution_count": 6,
      "metadata": {
        "colab": {
          "base_uri": "https://localhost:8080/"
        },
        "id": "alVaVE_yc7GB",
        "outputId": "73e66d46-ac58-4e76-d821-0f64c4a31ca9"
      },
      "outputs": [
        {
          "output_type": "execute_result",
          "data": {
            "text/plain": [
              "3"
            ]
          },
          "metadata": {},
          "execution_count": 6
        }
      ],
      "source": [
        "b = bytearray(open('b.txt', 'rb').read())\n",
        "for i in range(len(b)):\n",
        "    b[i] ^= 0x1F\n",
        "open('ab.txt', 'wb').write(b)"
      ]
    }
  ]
}